{
 "cells": [
  {
   "cell_type": "markdown",
   "id": "9c60a3df-92cb-454e-8103-8e26933598e9",
   "metadata": {},
   "source": [
    "# Lab 7 - Derivatives"
   ]
  },
  {
   "cell_type": "markdown",
   "id": "cfb9c016-0364-4f70-a1a2-149173611d78",
   "metadata": {},
   "source": [
    "This lab will practice defining derivatives, not practice learning them. We will use the sympy package."
   ]
  },
  {
   "cell_type": "code",
   "execution_count": 1,
   "id": "4e2b8270-5037-41b9-b193-c2667a94e126",
   "metadata": {},
   "outputs": [],
   "source": [
    "from sympy import symbols, diff"
   ]
  },
  {
   "cell_type": "markdown",
   "id": "ccb918b3-b6ac-4424-9f11-cfeea55aed1d",
   "metadata": {},
   "source": [
    "## Single Variable"
   ]
  },
  {
   "cell_type": "markdown",
   "id": "432fad18-22e5-40bb-a650-eb8759c3622b",
   "metadata": {},
   "source": [
    "Let's try this out.  Let's look at the derivative of the function $J(w) = w^2$ at the point $w=3$ and $\\epsilon = 0.001$"
   ]
  },
  {
   "cell_type": "code",
   "execution_count": 5,
   "id": "78603644-b2c7-4dcc-a7e8-e1a365815f2c",
   "metadata": {},
   "outputs": [],
   "source": [
    "J,w = symbols(\"J, w\") # Symbols"
   ]
  },
  {
   "cell_type": "code",
   "execution_count": 6,
   "id": "bc65b14a-aa19-4681-83aa-987fe4d37736",
   "metadata": {},
   "outputs": [],
   "source": [
    "J = w**2 # Function"
   ]
  },
  {
   "cell_type": "code",
   "execution_count": 7,
   "id": "79be51fc-0e4d-40a3-bd05-c3c405c33343",
   "metadata": {},
   "outputs": [],
   "source": [
    "dj_dw = diff(J,w) # Derive using the diff() function"
   ]
  },
  {
   "cell_type": "code",
   "execution_count": 8,
   "id": "47c9b78d-306e-4e4a-b5ce-508828fde3bd",
   "metadata": {},
   "outputs": [
    {
     "data": {
      "text/latex": [
       "$\\displaystyle 2 w$"
      ],
      "text/plain": [
       "2*w"
      ]
     },
     "execution_count": 8,
     "metadata": {},
     "output_type": "execute_result"
    }
   ],
   "source": [
    "dj_dw"
   ]
  },
  {
   "cell_type": "code",
   "execution_count": 11,
   "id": "2c73fef8-cf9c-4672-b4aa-6c9f0323104b",
   "metadata": {},
   "outputs": [
    {
     "data": {
      "text/latex": [
       "$\\displaystyle 6$"
      ],
      "text/plain": [
       "6"
      ]
     },
     "execution_count": 11,
     "metadata": {},
     "output_type": "execute_result"
    }
   ],
   "source": [
    "dj_dw.subs([(w,3)]) # Sub in some value for w using the .subs() functions"
   ]
  },
  {
   "cell_type": "markdown",
   "id": "dde67a1e-6cc7-4d46-a275-23dcb97d812d",
   "metadata": {},
   "source": [
    "## Multple variables"
   ]
  },
  {
   "cell_type": "code",
   "execution_count": 12,
   "id": "b7a9c3e2-d756-4ce1-a9dd-130479b92782",
   "metadata": {},
   "outputs": [],
   "source": [
    "a, b, c = symbols(\"a, b, c\")"
   ]
  },
  {
   "cell_type": "code",
   "execution_count": 14,
   "id": "19f86ebe-ee4e-4c77-a50b-9bb1d0ca53a5",
   "metadata": {},
   "outputs": [],
   "source": [
    "a = b**2 + b*c"
   ]
  },
  {
   "cell_type": "code",
   "execution_count": 15,
   "id": "87f787c1-6b4b-4886-827c-3038a547bed0",
   "metadata": {},
   "outputs": [],
   "source": [
    "da_db = diff(a,b)"
   ]
  },
  {
   "cell_type": "code",
   "execution_count": 16,
   "id": "6b2e410e-a7ba-419c-9420-53c189dd5367",
   "metadata": {},
   "outputs": [],
   "source": [
    "da_dc = diff(a,c)"
   ]
  },
  {
   "cell_type": "code",
   "execution_count": 20,
   "id": "fdf0a84e-ba9e-418e-b5a9-be42d8d910c0",
   "metadata": {},
   "outputs": [
    {
     "data": {
      "text/latex": [
       "$\\displaystyle 2 b + c$"
      ],
      "text/plain": [
       "2*b + c"
      ]
     },
     "execution_count": 20,
     "metadata": {},
     "output_type": "execute_result"
    }
   ],
   "source": [
    "da_db # Should be 2b + c"
   ]
  },
  {
   "cell_type": "code",
   "execution_count": 21,
   "id": "e41c9554-5c39-466e-bc69-c8fd2e1a8d10",
   "metadata": {},
   "outputs": [
    {
     "data": {
      "text/latex": [
       "$\\displaystyle b$"
      ],
      "text/plain": [
       "b"
      ]
     },
     "execution_count": 21,
     "metadata": {},
     "output_type": "execute_result"
    }
   ],
   "source": [
    "da_dc # Should be just b"
   ]
  },
  {
   "cell_type": "markdown",
   "id": "bfd279fa-1a12-4e83-88fd-ea0fc77eeb3f",
   "metadata": {},
   "source": [
    "Lets sub in some values"
   ]
  },
  {
   "cell_type": "code",
   "execution_count": 25,
   "id": "2df3be77-85ed-4f3b-9c11-c30e46f4abb7",
   "metadata": {},
   "outputs": [
    {
     "data": {
      "text/latex": [
       "$\\displaystyle -6$"
      ],
      "text/plain": [
       "-6"
      ]
     },
     "execution_count": 25,
     "metadata": {},
     "output_type": "execute_result"
    }
   ],
   "source": [
    "da_db.subs([(b,2),(c,-10)])"
   ]
  },
  {
   "cell_type": "code",
   "execution_count": 28,
   "id": "e62559e2-4380-4680-8d76-aa5376b5cc03",
   "metadata": {},
   "outputs": [
    {
     "data": {
      "text/latex": [
       "$\\displaystyle 2$"
      ],
      "text/plain": [
       "2"
      ]
     },
     "execution_count": 28,
     "metadata": {},
     "output_type": "execute_result"
    }
   ],
   "source": [
    "da_dc.subs([(b,2),(c,-10)]) # Function ignores the assigned c value without error"
   ]
  },
  {
   "cell_type": "code",
   "execution_count": null,
   "id": "f70e51fc-83fd-40d3-b6cc-f0eaac5bb14f",
   "metadata": {},
   "outputs": [],
   "source": []
  }
 ],
 "metadata": {
  "kernelspec": {
   "display_name": "Python 3.10.5",
   "language": "python",
   "name": "py3.10.5"
  },
  "language_info": {
   "codemirror_mode": {
    "name": "ipython",
    "version": 3
   },
   "file_extension": ".py",
   "mimetype": "text/x-python",
   "name": "python",
   "nbconvert_exporter": "python",
   "pygments_lexer": "ipython3",
   "version": "3.10.5"
  }
 },
 "nbformat": 4,
 "nbformat_minor": 5
}
